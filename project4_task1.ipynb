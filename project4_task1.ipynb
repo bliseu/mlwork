{
 "cells": [
  {
   "cell_type": "code",
   "execution_count": 3,
   "id": "050693e8-cfcf-41e7-8d0a-9eb8f129085d",
   "metadata": {},
   "outputs": [
    {
     "data": {
      "text/plain": [
       "[('woman', 0.5876938104629517),\n",
       " ('girl', 0.5229198932647705),\n",
       " ('young', 0.49715912342071533),\n",
       " ('immortal', 0.4890766441822052),\n",
       " ('spider', 0.47930291295051575)]"
      ]
     },
     "execution_count": 3,
     "metadata": {},
     "output_type": "execute_result"
    }
   ],
   "source": [
    "from gensim.models import Word2Vec\n",
    "import gensim.models\n",
    "import nltk\n",
    "newmodel = gensim.models.KeyedVectors.load_word2vec_format(\"reducedvector.bin\", binary=True)\n",
    "newmodel.most_similar('man', topn=5)"
   ]
  },
  {
   "cell_type": "code",
   "execution_count": 4,
   "id": "d722f3b3-b781-4f44-8ed4-96947536cabe",
   "metadata": {},
   "outputs": [
    {
     "data": {
      "text/plain": [
       "0.5876938"
      ]
     },
     "execution_count": 4,
     "metadata": {},
     "output_type": "execute_result"
    }
   ],
   "source": [
    "newmodel.similarity('woman', 'man')"
   ]
  },
  {
   "cell_type": "code",
   "execution_count": 9,
   "id": "b428fac5-17da-4f2f-b7d7-7db1611b62fd",
   "metadata": {},
   "outputs": [
    {
     "data": {
      "text/plain": [
       "[('queen', 0.5532454252243042)]"
      ]
     },
     "execution_count": 9,
     "metadata": {},
     "output_type": "execute_result"
    }
   ],
   "source": [
    "newmodel.most_similar(positive=['king', 'woman'], negative=['man'], topn=1) "
   ]
  },
  {
   "cell_type": "code",
   "execution_count": 19,
   "id": "d0357e17-945c-4041-956a-ee4f19c0552b",
   "metadata": {
    "scrolled": true
   },
   "outputs": [
    {
     "name": "stdout",
     "output_type": "stream",
     "text": [
      "Similarity man woman\n",
      "wife 0.2834791 0.3006885\n",
      "husband 0.2341164 0.4496431\n",
      "child 0.33342198 0.5898086\n",
      "queen 0.11041949 0.22857244\n",
      "king 0.26449707 0.122528546\n",
      "man 1.0 0.5876938\n",
      "woman 0.5876938 0.99999994\n",
      "birth 0.12343917 0.42030877\n",
      "doctor 0.28924733 0.19613354\n",
      "nurse 0.15348099 0.25435838\n",
      "teacher 0.09874005 0.2040782\n",
      "professor 0.10762214 0.105198584\n",
      "engineer 0.08736356 0.044264376\n",
      "scientist 0.112269185 0.13731062\n",
      "president 0.09457928 0.08462686\n"
     ]
    }
   ],
   "source": [
    "wordlist = ['wife', 'husband', 'child', 'queen', 'king', 'man', 'woman', 'birth', 'doctor', 'nurse', 'teacher', 'professor', 'engineer', 'scientist', 'president']\n",
    "print ('Similarity', 'man', 'woman')\n",
    "for i in wordlist:\n",
    "    simi1 = newmodel.similarity('man', i)\n",
    "    simi2 = newmodel.similarity('woman', i)\n",
    "    print (i, simi1, simi2)"
   ]
  },
  {
   "cell_type": "code",
   "execution_count": 75,
   "id": "e7dd77a6-a6de-411f-b043-e3f1a10b1296",
   "metadata": {},
   "outputs": [
    {
     "name": "stdout",
     "output_type": "stream",
     "text": [
      "king is to throne as judge is to bench\n",
      "0.30267337\n",
      "giant is to dwarf as genius is to idiot\n",
      "0.34426278\n",
      "college is to dean as jail is to warden\n",
      "0.27777424\n",
      "arc is to circle as line is to curve\n",
      "0.28274268\n",
      "man is to woman as king is to queen\n",
      "0.5685571\n",
      "water is to ice as liquid is to solid\n",
      "0.6546474\n",
      "bad is to good as sad is to happy\n",
      "0.44885093\n",
      "nurse is to hospital as teacher is to school\n",
      "0.5326567\n",
      "usa is to pizza as japan is to sushi\n",
      "0.01186634\n",
      "human is to house as dog is to kennel\n",
      "0.28415978\n",
      "grass is to green as sky is to blue\n",
      "0.4439698\n",
      "video is to cassette as computer is to modem\n",
      "0.44995308\n",
      "universe is to planet as house is to room\n",
      "0.25021726\n",
      "poverty is to wealth as sickness is to health\n",
      "0.19527604\n"
     ]
    }
   ],
   "source": [
    "words1 = ['king', 'giant', 'college', 'arc', 'French', 'man', 'water', 'bad', 'nurse', 'usa', 'human', 'grass', 'video', 'universe', 'poverty']\n",
    "words2 = ['throne', 'dwarf', 'dean', 'circle', 'France', 'woman', 'ice', 'good', 'hospital', 'pizza', 'house', 'green', 'cassette', 'planet', 'wealth']\n",
    "words3 = ['judge', 'genius', 'jail', 'line', 'Dutch', 'king', 'liquid', 'sad', 'teacher', 'japan', 'dog', 'sky', 'computer', 'house', 'sickness']\n",
    "words4 = ['bench', 'idiot', 'warden', 'curve', 'Netherland', 'queen', 'solid', 'happy', 'school', 'sushi', 'kennel', 'blue', 'modem', 'room', 'health']\n",
    "\n",
    "for i in range(0, 15):\n",
    "    # Dutch not present in vocabulary!!!\n",
    "    if i != 4:\n",
    "        print (words1[i], 'is to', words2[i], 'as', words3[i], 'is to', words4[i])\n",
    "        print (newmodel.similarity(words3[i], words4[i]))"
   ]
  },
  {
   "cell_type": "code",
   "execution_count": 77,
   "id": "d80c9698-ddfa-43a7-bf88-408a99b8715a",
   "metadata": {},
   "outputs": [
    {
     "name": "stdout",
     "output_type": "stream",
     "text": [
      "king is to throne as judge is to prosecution 0.5186458230018616\n",
      "giant is to dwarf as genius is to theorist 0.4280889630317688\n",
      "college is to dean as jail is to peress 0.5444425940513611\n",
      "arc is to circle as line is to lines 0.4287526607513428\n",
      "man is to woman as king is to queen 0.5532454252243042\n",
      "water is to ice as liquid is to solid 0.4500039219856262\n",
      "bad is to good as sad is to glory 0.440381795167923\n",
      "nurse is to hospital as teacher is to institution 0.48289817571640015\n",
      "usa is to pizza as japan is to dishes 0.5763506293296814\n",
      "human is to house as dog is to hound 0.4231664538383484\n",
      "grass is to green as sky is to blue 0.5478643178939819\n",
      "video is to cassette as computer is to peripherals 0.6654507517814636\n",
      "universe is to planet as house is to houses 0.4264702796936035\n",
      "poverty is to wealth as sickness is to impious 0.49606096744537354\n"
     ]
    }
   ],
   "source": [
    "for i in range(0, 15):\n",
    "    # Dutch not present in vocabulary!!!\n",
    "    if i != 4:\n",
    "        words5 = newmodel.most_similar(positive=[words3[i], words2[i]], negative=[words1[i]], topn=1)\n",
    "        print (words1[i], 'is to', words2[i], 'as', words3[i], 'is to', words5[0][0], words5[0][1])"
   ]
  },
  {
   "cell_type": "code",
   "execution_count": 87,
   "id": "c289dafd-fa62-4754-bb1b-52008a51625c",
   "metadata": {},
   "outputs": [
    {
     "name": "stdout",
     "output_type": "stream",
     "text": [
      "bench prosecution 0.25403547 weak correlation\n",
      "idiot theorist 0.11583818 very weak correlation\n",
      "warden peress 0.2977116 weak correlation\n",
      "curve lines 0.17296833 very weak correlation\n",
      "queen queen 1.0 very strong correlation\n",
      "solid solid 1.0 very strong correlation\n",
      "happy glory 0.3985216 moderate correlation\n",
      "school institution 0.47372162 moderate correlation\n",
      "sushi dishes 0.5302525 moderate correlation\n",
      "kennel hound 0.29322577 weak correlation\n",
      "blue blue 0.99999994 very strong correlation\n",
      "modem peripherals 0.7000442 strong correlation\n",
      "room houses 0.33860296 weak correlation\n",
      "health impious 0.011116481 very weak correlation\n"
     ]
    }
   ],
   "source": [
    "for i in range(0, 15):\n",
    "    # Dutch not present in vocabulary!!!\n",
    "    if i != 4:\n",
    "        words5 = newmodel.most_similar(positive=[words3[i], words2[i]], negative=[words1[i]], topn=1)\n",
    "        correlation = newmodel.similarity(words4[i], words5[0][0])\n",
    "        if correlation <= 0.19:\n",
    "            print (words4[i], words5[0][0], correlation, 'very weak correlation')\n",
    "        else:\n",
    "            if correlation <= 0.39:\n",
    "                print (words4[i], words5[0][0], correlation, 'weak correlation')\n",
    "            else:\n",
    "                if correlation <= 0.59:\n",
    "                    print (words4[i], words5[0][0], correlation, 'moderate correlation')\n",
    "                else:\n",
    "                    if correlation <= 0.79:\n",
    "                        print (words4[i], words5[0][0], correlation, 'strong correlation')\n",
    "                    else:\n",
    "                        print (words4[i], words5[0][0], correlation, 'very strong correlation')\n",
    "                        \n",
    "                "
   ]
  },
  {
   "cell_type": "code",
   "execution_count": null,
   "id": "e2d236f7-f412-451b-9f48-fd64c5ebabb5",
   "metadata": {},
   "outputs": [],
   "source": []
  },
  {
   "cell_type": "code",
   "execution_count": null,
   "id": "c3144b38-badd-4e02-83b3-0d02479674f5",
   "metadata": {},
   "outputs": [],
   "source": []
  }
 ],
 "metadata": {
  "kernelspec": {
   "display_name": "Python 3 (ipykernel)",
   "language": "python",
   "name": "python3"
  },
  "language_info": {
   "codemirror_mode": {
    "name": "ipython",
    "version": 3
   },
   "file_extension": ".py",
   "mimetype": "text/x-python",
   "name": "python",
   "nbconvert_exporter": "python",
   "pygments_lexer": "ipython3",
   "version": "3.10.9"
  }
 },
 "nbformat": 4,
 "nbformat_minor": 5
}
