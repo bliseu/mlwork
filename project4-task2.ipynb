{
 "cells": [
  {
   "cell_type": "code",
   "execution_count": 1,
   "id": "37c1bf91-4e1c-43bf-94b4-a0cd30ec86bf",
   "metadata": {},
   "outputs": [
    {
     "name": "stdout",
     "output_type": "stream",
     "text": [
      "Age Frequencies:\n",
      "Age range (0, 20): 4267 images\n",
      "Age range (21, 40): 2533 images\n",
      "Age range (41, 60): 1665 images\n",
      "Age range (61, 80): 967 images\n",
      "Age range (81, 116): 346 images\n",
      "Gender Frequencies:\n",
      "Gender 0: 4372 images\n",
      "Gender 1: 5406 images\n",
      "Race Frequencies:\n",
      "Race 0: 5265 images\n",
      "Race 1: 405 images\n",
      "Race 2: 1553 images\n",
      "Race 3: 1452 images\n",
      "Race 4: 1103 images\n"
     ]
    }
   ],
   "source": [
    "import os  \n",
    "import re  \n",
    "  \n",
    "# 定义图片文件夹路径  \n",
    "image_folder = './crop_part1'  \n",
    "  \n",
    "# 定义年龄分组范围  \n",
    "age_ranges = [(0, 20), (21, 40), (41, 60), (61, 80), (81, 116)]  \n",
    "  \n",
    "# 初始化年龄、性别和种族计数器  \n",
    "age_counts = {range_: 0 for range_ in age_ranges}  \n",
    "gender_counts = {0: 0, 1: 0}  # 男性为0，女性为1  \n",
    "race_counts = {0: 0, 1: 0, 2: 0, 3: 0, 4: 0}  # 白人、黑人、亚裔、印度人和其他人分别为0、1、2、3、4  \n",
    "  \n",
    "# 遍历图片文件夹中的文件  \n",
    "for filename in os.listdir(image_folder):  \n",
    "    # 检查文件是否为图片文件  \n",
    "    if re.match(r'^\\d+\\_\\d+\\_\\d+\\_\\d+(.jpg.chip.jpg)$', filename):  \n",
    "        # 从文件名中提取年龄、性别和种族信息  \n",
    "        age, gender, race = map(int, filename.split('_')[0:3])  \n",
    "          \n",
    "        # 将年龄、性别和种族信息归类并计数  \n",
    "        for range_ in age_ranges:  \n",
    "            if age >= range_[0] and age <= range_[1]:  \n",
    "                age_counts[range_] += 1  \n",
    "                break  \n",
    "        gender_counts[gender] += 1  \n",
    "        race_counts[race] += 1  \n",
    "  \n",
    "# 输出结果  \n",
    "print(\"Age Frequencies:\")  \n",
    "for range_, count in age_counts.items():  \n",
    "    print(f\"Age range {range_}: {count} images\")  \n",
    "      \n",
    "print(\"Gender Frequencies:\")  \n",
    "for gender, count in gender_counts.items():  \n",
    "    print(f\"Gender {gender}: {count} images\")  \n",
    "      \n",
    "print(\"Race Frequencies:\")  \n",
    "for race, count in race_counts.items():  \n",
    "    print(f\"Race {race}: {count} images\")"
   ]
  },
  {
   "cell_type": "code",
   "execution_count": null,
   "id": "f898bff2-b405-42fe-8660-36eec484b172",
   "metadata": {},
   "outputs": [],
   "source": []
  }
 ],
 "metadata": {
  "kernelspec": {
   "display_name": "Python 3 (ipykernel)",
   "language": "python",
   "name": "python3"
  },
  "language_info": {
   "codemirror_mode": {
    "name": "ipython",
    "version": 3
   },
   "file_extension": ".py",
   "mimetype": "text/x-python",
   "name": "python",
   "nbconvert_exporter": "python",
   "pygments_lexer": "ipython3",
   "version": "3.10.9"
  }
 },
 "nbformat": 4,
 "nbformat_minor": 5
}
